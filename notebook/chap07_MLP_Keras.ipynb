{
  "nbformat": 4,
  "nbformat_minor": 0,
  "metadata": {
    "colab": {
      "provenance": [],
      "collapsed_sections": [],
      "authorship_tag": "ABX9TyMJJJHkDD7tJYNG8Akm8eFQ",
      "include_colab_link": true
    },
    "kernelspec": {
      "name": "python3",
      "display_name": "Python 3"
    },
    "language_info": {
      "name": "python"
    },
    "accelerator": "GPU"
  },
  "cells": [
    {
      "cell_type": "markdown",
      "metadata": {
        "id": "view-in-github",
        "colab_type": "text"
      },
      "source": [
        "<a href=\"https://colab.research.google.com/github/alsrn36533/pdm02/blob/main/notebook/chap07_MLP_Keras.ipynb\" target=\"_parent\"><img src=\"https://colab.research.google.com/assets/colab-badge.svg\" alt=\"Open In Colab\"/></a>"
      ]
    },
    {
      "cell_type": "markdown",
      "source": [
        "## MLP:Keras"
      ],
      "metadata": {
        "id": "quHJXkga6K-2"
      }
    },
    {
      "cell_type": "markdown",
      "source": [
        "## mini-batch 구현 (중요함★)"
      ],
      "metadata": {
        "id": "XVu5MqVD6QxW"
      }
    },
    {
      "cell_type": "code",
      "source": [
        "import numpy as np\n",
        "import tensorflow as tf\n",
        "\n",
        "# 데이터를 학습 데이터와 테스트 데이터로 나눈다. \n",
        "(x_train, y_train), (x_test, y_test) = tf.keras.datasets.mnist.load_data()\n",
        "\n",
        "print(x_train.shape,y_train.shape)\n",
        "print(y_train[:10])\n",
        "print(x_train.shape,y_test.shape)\n",
        "print(y_test[:10])\n",
        "\n",
        "data_size = x_train.shape[0]\n",
        "batch_size = 12\t# 배치 크기\n",
        "\n",
        "selected = np.random.choice(data_size, batch_size)\n",
        "print(selected)\n",
        "x_batch = x_train[selected]\n",
        "y_batch = y_train[selected]\n",
        "x_batch.shape,y_batch.shape\n",
        "\n"
      ],
      "metadata": {
        "colab": {
          "base_uri": "https://localhost:8080/"
        },
        "id": "taN-mgYF6WGG",
        "outputId": "a51a2526-f265-4b01-e090-fee1888a993c"
      },
      "execution_count": null,
      "outputs": [
        {
          "output_type": "stream",
          "name": "stdout",
          "text": [
            "(60000, 28, 28) (60000,)\n",
            "[5 0 4 1 9 2 1 3 1 4]\n",
            "(60000, 28, 28) (10000,)\n",
            "[7 2 1 0 4 1 4 9 5 9]\n",
            "[ 6380 46079 52746 20515 30126 58326  9635 57539 19311 12618 20309 33062]\n"
          ]
        },
        {
          "output_type": "execute_result",
          "data": {
            "text/plain": [
              "((12, 28, 28), (12,))"
            ]
          },
          "metadata": {},
          "execution_count": 2
        }
      ]
    },
    {
      "cell_type": "markdown",
      "source": [
        "## mini-batch : XOR using MLP"
      ],
      "metadata": {
        "id": "jFeP1IIb7ZCP"
      }
    },
    {
      "cell_type": "code",
      "source": [
        "import numpy as np\n",
        "# XOR solution by MLP\n",
        "\n",
        "# 시그모이드 함수\n",
        "def actf(x):\n",
        "\treturn 1/(1+np.exp(-x))\n",
        "\n",
        "# 시그모이드 함수의 미분치\n",
        "def actf_deriv(x):\n",
        "\t    return x*(1-x)\n",
        "\n",
        "# 입력유닛의 개수, 은닉유닛의 개수, 출력유닛의 개수\n",
        "inputs, hiddens, outputs = 2, 2, 1\n",
        "learning_rate = 0.5\n",
        "\n",
        "# 훈련 입력과 출력\n",
        "X = np.array([[0, 0], [0, 1], [1, 0], [1, 1]])\n",
        "T = np.array([[0], [1], [1], [0]])\n",
        "\n",
        "# 가중치를 –1.0에서 1.0 사이의 난수로 초기화한다.\n",
        "W1 = 2*np.random.random((inputs, hiddens))-1   \n",
        "W2 = 2*np.random.random((hiddens, outputs))-1  \n",
        "B1 = np.zeros(hiddens)   \n",
        "B2 = np.zeros(outputs)   \n",
        "\n",
        "# 순방향 전파 계산\n",
        "def predict(x):\n",
        "        layer0 = x\t\t\t# 입력을 layer0에 대입한다. \n",
        "        Z1 = np.dot(layer0, W1)+B1\t# 행렬의 곱을 계산한다. \n",
        "        layer1 = actf(Z1)\t\t# 활성화 함수를 적용한다. \n",
        "        Z2 = np.dot(layer1, W2)+B2\t# 행렬의 곱을 계산한다. \n",
        "        layer2 = actf(Z2)\t\t# 활성화 함수를 적용한다. \n",
        "        return layer0, layer1, layer2\n",
        "    \n",
        "# 역방향 전파 계산\n",
        "def fit():\n",
        "    global W1, W2, B1, B2\n",
        "    for i in range(60000):\n",
        "            layer0, layer1, layer2 = predict(X) # input-batch-size = 4\n",
        "            layer2_error = layer2-T\n",
        "\n",
        "            layer2_delta = layer2_error*actf_deriv(layer2)\n",
        "            layer1_error = np.dot(layer2_delta, W2.T)\n",
        "            layer1_delta = layer1_error*actf_deriv(layer1)\n",
        "            \n",
        "            W2 += -learning_rate*np.dot(layer1.T, layer2_delta)/4.0 # 4개의 입력에 대한 평균 기울기\n",
        "            W1 += -learning_rate*np.dot(layer0.T, layer1_delta)/4.0\n",
        "            B2 += -learning_rate*np.sum(layer2_delta, axis=0)/4.0\n",
        "            B1 += -learning_rate*np.sum(layer1_delta, axis=0)/4.0\n",
        "\n",
        "def test():\n",
        "    for x, y in zip(X, T):\n",
        "        x = np.reshape(x, (1, -1))\t\t# 하나여도 2차원 형태이어야 한다.\n",
        "        layer0, layer1, layer2 = predict(x)\n",
        "        print(x, y, layer2)\n",
        "\n",
        "fit()\n",
        "test()\n",
        "W1,W2\n",
        "B1,B2"
      ],
      "metadata": {
        "colab": {
          "base_uri": "https://localhost:8080/"
        },
        "id": "SowuetKj7hDG",
        "outputId": "c96c83cd-430a-47c8-fd8a-bbe4a4177204"
      },
      "execution_count": null,
      "outputs": [
        {
          "output_type": "stream",
          "name": "stdout",
          "text": [
            "[[0 0]] [0] [[0.01247431]]\n",
            "[[0 1]] [1] [[0.98691379]]\n",
            "[[1 0]] [1] [[0.98686511]]\n",
            "[[1 1]] [0] [[0.01616885]]\n"
          ]
        },
        {
          "output_type": "execute_result",
          "data": {
            "text/plain": [
              "(array([7.36573344, 2.72591104]), array([-4.86817477]))"
            ]
          },
          "metadata": {},
          "execution_count": 3
        }
      ]
    },
    {
      "cell_type": "markdown",
      "source": [
        "---\n",
        "# Tensorflow-Keras\n",
        "---"
      ],
      "metadata": {
        "id": "zbYchrPD6nPP"
      }
    },
    {
      "cell_type": "markdown",
      "source": [
        "## MLP XOR in Keras\n",
        "- 1-은닉층\n",
        "- 2-은닉층"
      ],
      "metadata": {
        "id": "d0hW0Rn264dm"
      }
    },
    {
      "cell_type": "code",
      "source": [
        "import numpy as np\n",
        "import tensorflow as tf\n",
        "\n",
        "model = tf.keras.models.Sequential()\n",
        "\n",
        "model.add(tf.keras.layers.Dense(units=2, input_shape=(2,), activation='sigmoid')) #①\n",
        "model.add(tf.keras.layers.Dense(units=1,  activation='sigmoid')) #②\t\t\n",
        "model.compile(loss='mean_squared_error', \n",
        "              optimizer=tf.keras.optimizers.SGD(lr=0.3)) \n",
        "\n",
        "model.summary()\n",
        " \n",
        "X = np.array([[0, 0],[0, 1],[1, 0],[1, 1]])\n",
        "y = np.array([[0], [1], [1], [0]])\n",
        "\n",
        "model.fit(X, y, batch_size=1, epochs=10000, verbose =2)\n",
        "\n",
        "print(model.predict(X))\n",
        "# [[0.0156148 ]\n",
        "#  [0.98538893]\n",
        "#  [0.9820687 ]\n",
        "#  [0.01398213]]"
      ],
      "metadata": {
        "id": "rNQ1yhcX7Hy-"
      },
      "execution_count": null,
      "outputs": []
    },
    {
      "cell_type": "code",
      "source": [
        "# 2-은닉층\n",
        "import numpy as np\n",
        "import tensorflow as tf\n",
        "\n",
        "model = tf.keras.models.Sequential()\n",
        "\n",
        "model.add(tf.keras.layers.Dense(units=2, input_shape=(2,), activation='sigmoid')) #①\n",
        "model.add(tf.keras.layers.Dense(units=4, activation='sigmoid')) #\n",
        "model.add(tf.keras.layers.Dense(units=1,  activation='sigmoid')) #\t\t\n",
        "model.compile(loss='mean_squared_error', \n",
        "              optimizer=tf.keras.optimizers.SGD(lr=0.3)) \n",
        "\n",
        "model.summary()\n",
        "\n",
        "X = np.array([[0, 0],[0, 1],[1, 0],[1, 1]])\n",
        "y = np.array([[0], [1], [1], [0]])\n",
        "\n",
        "model.fit(X, y, batch_size=1, epochs=10000, verbose=0)\n",
        "\n",
        "print(model.predict(X))\n",
        "\n",
        "# [[0.00956685]\n",
        "#  [0.9900732 ]\n",
        "#  [0.9919224 ]\n",
        "#  [0.00822851]]"
      ],
      "metadata": {
        "colab": {
          "base_uri": "https://localhost:8080/"
        },
        "id": "_YK1HxYx9Mnn",
        "outputId": "6fa20797-b4db-441a-9063-792e6b108fb9"
      },
      "execution_count": 2,
      "outputs": [
        {
          "output_type": "stream",
          "name": "stdout",
          "text": [
            "Model: \"sequential_1\"\n",
            "_________________________________________________________________\n",
            " Layer (type)                Output Shape              Param #   \n",
            "=================================================================\n",
            " dense_2 (Dense)             (None, 2)                 6         \n",
            "                                                                 \n",
            " dense_3 (Dense)             (None, 4)                 12        \n",
            "                                                                 \n",
            " dense_4 (Dense)             (None, 1)                 5         \n",
            "                                                                 \n",
            "=================================================================\n",
            "Total params: 23\n",
            "Trainable params: 23\n",
            "Non-trainable params: 0\n",
            "_________________________________________________________________\n"
          ]
        },
        {
          "output_type": "stream",
          "name": "stderr",
          "text": [
            "/usr/local/lib/python3.7/dist-packages/keras/optimizer_v2/gradient_descent.py:102: UserWarning: The `lr` argument is deprecated, use `learning_rate` instead.\n",
            "  super(SGD, self).__init__(name, **kwargs)\n"
          ]
        },
        {
          "output_type": "stream",
          "name": "stdout",
          "text": [
            "[[0.00712317]\n",
            " [0.98856175]\n",
            " [0.9885467 ]\n",
            " [0.01835654]]\n"
          ]
        }
      ]
    },
    {
      "cell_type": "markdown",
      "source": [
        "## Mnist model using Keras \n",
        "1. Sequential model\n",
        "2. Functional model\n",
        "3. Subclassing model"
      ],
      "metadata": {
        "id": "j8uSJO3E97tV"
      }
    },
    {
      "cell_type": "markdown",
      "source": [
        "### Data loading"
      ],
      "metadata": {
        "id": "ubDtASMm-Odd"
      }
    },
    {
      "cell_type": "code",
      "source": [
        "import matplotlib.pyplot as plt\n",
        "import tensorflow as tf\n",
        "from tensorflow.keras import layers\n",
        "from tensorflow.keras import models\n",
        "import numpy as np\n",
        "\n",
        "(train_images, train_labels), (test_images, test_labels)\t= tf.keras.datasets.mnist.load_data()\n",
        "\n",
        "print(train_images.shape)\n",
        "\n",
        "print(train_labels)\n",
        "print(test_images.shape)\n",
        "\n",
        "plt.imshow(train_images[0], cmap=\"Greys\")\n",
        "plt.show()\n"
      ],
      "metadata": {
        "colab": {
          "base_uri": "https://localhost:8080/",
          "height": 375
        },
        "id": "2xlUPkUj-eu1",
        "outputId": "92375330-8524-41a1-ef5e-5ece058485d0"
      },
      "execution_count": 3,
      "outputs": [
        {
          "output_type": "stream",
          "name": "stdout",
          "text": [
            "Downloading data from https://storage.googleapis.com/tensorflow/tf-keras-datasets/mnist.npz\n",
            "11493376/11490434 [==============================] - 0s 0us/step\n",
            "11501568/11490434 [==============================] - 0s 0us/step\n",
            "(60000, 28, 28)\n",
            "[5 0 4 ... 5 6 8]\n",
            "(10000, 28, 28)\n"
          ]
        },
        {
          "output_type": "display_data",
          "data": {
            "text/plain": [
              "<Figure size 432x288 with 1 Axes>"
            ],
            "image/png": "[encoded data removed]"
          },
          "metadata": {
            "needs_background": "light"
          }
        }
      ]
    },
    {
      "cell_type": "markdown",
      "source": [
        "### Data preprocessing\n",
        "- Reshape \n",
        "- Normalization\n",
        "- one-hot encoding"
      ],
      "metadata": {
        "id": "9B7MZ6PA-9R9"
      }
    },
    {
      "cell_type": "code",
      "source": [
        "#\n",
        "# dataset: train, test\n",
        "#\n",
        "train_images = train_images.reshape((60000, 784))\n",
        "train_images = train_images.astype('float32') / 255.0\n",
        "\n",
        "test_images = test_images.reshape((10000, 784))\n",
        "test_images = test_images.astype('float32') / 255.0\n",
        "\n",
        "train_labels = tf.keras.utils.to_categorical(train_labels)\n",
        "test_labels = tf.keras.utils.to_categorical(test_labels)\n",
        "\n",
        "print(train_images.shape,train_labels.shape)"
      ],
      "metadata": {
        "colab": {
          "base_uri": "https://localhost:8080/"
        },
        "id": "n5cOsTz4-6xs",
        "outputId": "d339c1aa-d2bc-43db-f0b1-d02da0db23dd"
      },
      "execution_count": 4,
      "outputs": [
        {
          "output_type": "stream",
          "name": "stdout",
          "text": [
            "(60000, 784) (60000, 10)\n"
          ]
        }
      ]
    },
    {
      "cell_type": "markdown",
      "source": [
        "## 1. Sequential model"
      ],
      "metadata": {
        "id": "WuIWEFbG_wb8"
      }
    },
    {
      "cell_type": "code",
      "source": [
        "# model\n",
        "model = models.Sequential()\n",
        "\n",
        "model.add(layers.Dense(512, activation='relu', input_shape=(784,)))\n",
        "model.add(layers.Dense(10, activation='sigmoid'))\n",
        "\n",
        "model.compile(optimizer='rmsprop',\n",
        "                loss='mse',\n",
        "                metrics=['accuracy'])         "
      ],
      "metadata": {
        "id": "23ySLObP_12E"
      },
      "execution_count": 5,
      "outputs": []
    },
    {
      "cell_type": "code",
      "source": [
        "# Training with history\n",
        "history = model.fit(train_images, train_labels, epochs=5, batch_size=128, verbose=2)\n",
        "# Training graph\n",
        "loss = history.history['loss']\n",
        "acc = history.history['accuracy']\n",
        "epochs = range(1, len(loss)+1)\n",
        "\n",
        "plt.plot(epochs, loss, 'b', label='Training Loss')\n",
        "plt.plot(epochs, acc, 'r', label='Accuracy')\n",
        "plt.xlabel('epochs')\n",
        "plt.ylabel('loss/acc')\n",
        "plt.show()"
      ],
      "metadata": {
        "colab": {
          "base_uri": "https://localhost:8080/",
          "height": 463
        },
        "id": "Tx0j4XYSAKWk",
        "outputId": "fd8669f4-3c1b-4f8f-fac0-504102dc1850"
      },
      "execution_count": 6,
      "outputs": [
        {
          "output_type": "stream",
          "name": "stdout",
          "text": [
            "Epoch 1/5\n",
            "469/469 - 2s - loss: 0.0157 - accuracy: 0.9179 - 2s/epoch - 5ms/step\n",
            "Epoch 2/5\n",
            "469/469 - 1s - loss: 0.0063 - accuracy: 0.9657 - 1s/epoch - 2ms/step\n",
            "Epoch 3/5\n",
            "469/469 - 1s - loss: 0.0044 - accuracy: 0.9765 - 1s/epoch - 2ms/step\n",
            "Epoch 4/5\n",
            "469/469 - 1s - loss: 0.0034 - accuracy: 0.9827 - 1s/epoch - 2ms/step\n",
            "Epoch 5/5\n",
            "469/469 - 1s - loss: 0.0028 - accuracy: 0.9862 - 1s/epoch - 2ms/step\n"
          ]
        },
        {
          "output_type": "display_data",
          "data": {
            "text/plain": [
              "<Figure size 432x288 with 1 Axes>"
            ],
            "image/png": "[encoded data removed]"
          },
          "metadata": {
            "needs_background": "light"
          }
        }
      ]
    },
    {
      "cell_type": "code",
      "source": [
        "# test\n",
        "test_loss, test_acc = model.evaluate(test_images, test_labels)\n",
        "print('테스트 정확도:', test_acc)"
      ],
      "metadata": {
        "colab": {
          "base_uri": "https://localhost:8080/"
        },
        "id": "3RlT-7NBBLgU",
        "outputId": "55566ba4-a7c3-4837-c6b8-c3618842e6ec"
      },
      "execution_count": 7,
      "outputs": [
        {
          "output_type": "stream",
          "name": "stdout",
          "text": [
            "313/313 [==============================] - 1s 2ms/step - loss: 0.0038 - accuracy: 0.9789\n",
            "테스트 정확도: 0.9789000153541565\n"
          ]
        }
      ]
    },
    {
      "cell_type": "code",
      "source": [
        "# Test with new image\n",
        "import cv2 as cv\n",
        "\n",
        "image = cv.imread('test.png', cv.IMREAD_GRAYSCALE)\n",
        "image = cv.resize(image, (28, 28))\n",
        "image = image.astype('float32')\n",
        "# plt.imshow(image.reshape(28, 28),cmap='Greys')\n",
        "# plt.show()\n",
        "image = image.reshape(1, 784)\n",
        "image = 255-image\n",
        "image /= 255.0\n",
        "\n",
        "plt.imshow(image.reshape(28, 28),cmap='Greys')\n",
        "plt.show()\n",
        "\n",
        "pred = model.predict(image.reshape(1, 784), batch_size=1)\n",
        "print(\"추정된 숫자=\", pred.argmax())\n",
        "print(np.sum(pred))"
      ],
      "metadata": {
        "colab": {
          "base_uri": "https://localhost:8080/",
          "height": 302
        },
        "id": "6mvCvaLFBqGT",
        "outputId": "16998b6d-3c01-42b3-da23-ef716b145a42"
      },
      "execution_count": 8,
      "outputs": [
        {
          "output_type": "display_data",
          "data": {
            "text/plain": [
              "<Figure size 432x288 with 1 Axes>"
            ],
            "image/png": "[encoded data removed]"
          },
          "metadata": {
            "needs_background": "light"
          }
        },
        {
          "output_type": "stream",
          "name": "stdout",
          "text": [
            "추정된 숫자= 2\n",
            "1.2838187\n"
          ]
        }
      ]
    },
    {
      "cell_type": "markdown",
      "source": [
        "## 2.Functional model"
      ],
      "metadata": {
        "id": "zFxJdDHRB-2r"
      }
    },
    {
      "cell_type": "code",
      "source": [
        "#\n",
        "# Model2 - Functional\n",
        "#\n",
        "\n",
        "inputs = layers.Input(shape=(784,))\n",
        "\n",
        "x = layers.Dense(512, activation='relu')(inputs)\n",
        "output = layers.Dense(10, activation='sigmoid')(x)\n",
        "\n",
        "model = models.Model(inputs=inputs, outputs=output)\n",
        "\n",
        "model.compile(optimizer='rmsprop',\n",
        "                loss='mse',\n",
        "                metrics=['accuracy'])   "
      ],
      "metadata": {
        "id": "D0NmrUrACELK"
      },
      "execution_count": 9,
      "outputs": []
    },
    {
      "cell_type": "code",
      "source": [
        "# Training with history\n",
        "history = model.fit(train_images, train_labels, epochs=5, batch_size=128, verbose=2)\n",
        "loss = history.history['loss']\n",
        "acc = history.history['accuracy']\n",
        "epochs = range(1, len(loss)+1)\n",
        "\n",
        "plt.plot(epochs, loss, 'b', label='Training Loss')\n",
        "plt.plot(epochs, acc, 'r', label='Accuracy')\n",
        "plt.xlabel('epochs')\n",
        "plt.ylabel('loss/acc')\n",
        "plt.show()\n",
        "\n",
        "# test\n",
        "test_loss, test_acc = model.evaluate(test_images, test_labels)\n",
        "print('테스트 정확도:', test_acc)"
      ],
      "metadata": {
        "colab": {
          "base_uri": "https://localhost:8080/",
          "height": 499
        },
        "id": "geSkGnFrCR5D",
        "outputId": "8afbf5ff-55c8-4486-c468-4a04384d4194"
      },
      "execution_count": 10,
      "outputs": [
        {
          "output_type": "stream",
          "name": "stdout",
          "text": [
            "Epoch 1/5\n",
            "469/469 - 1s - loss: 0.0159 - accuracy: 0.9168 - 1s/epoch - 3ms/step\n",
            "Epoch 2/5\n",
            "469/469 - 1s - loss: 0.0062 - accuracy: 0.9666 - 1s/epoch - 2ms/step\n",
            "Epoch 3/5\n",
            "469/469 - 1s - loss: 0.0044 - accuracy: 0.9766 - 1s/epoch - 2ms/step\n",
            "Epoch 4/5\n",
            "469/469 - 1s - loss: 0.0034 - accuracy: 0.9825 - 1s/epoch - 2ms/step\n",
            "Epoch 5/5\n",
            "469/469 - 1s - loss: 0.0027 - accuracy: 0.9865 - 1s/epoch - 2ms/step\n"
          ]
        },
        {
          "output_type": "display_data",
          "data": {
            "text/plain": [
              "<Figure size 432x288 with 1 Axes>"
            ],
            "image/png": "[encoded data removed]"
          },
          "metadata": {
            "needs_background": "light"
          }
        },
        {
          "output_type": "stream",
          "name": "stdout",
          "text": [
            "313/313 [==============================] - 1s 2ms/step - loss: 0.0036 - accuracy: 0.9807\n",
            "테스트 정확도: 0.9807000160217285\n"
          ]
        }
      ]
    },
    {
      "cell_type": "markdown",
      "source": [
        "## 3. Subclassing model"
      ],
      "metadata": {
        "id": "LEiF2f4ICl4b"
      }
    },
    {
      "cell_type": "code",
      "source": [
        "#\n",
        "# Model3 - Class\n",
        "#\n",
        "\n",
        "class MnistMLP(models.Model):\n",
        "    \n",
        "    def __init__(self, num_classes):\n",
        "        super(MnistMLP, self).__init__(name='mlp')\n",
        "        self.num_classes = num_classes\n",
        "        \n",
        "        self.dense1 = layers.Dense(512, activation='relu')\n",
        "        self.dense2 = layers.Dense(10, activation='softmax')\n",
        "        \n",
        "    def call(self, inputs):\n",
        "        x = self.dense1(inputs)\n",
        "        return self.dense2(x)\n",
        "    \n",
        "# model\n",
        "model = MnistMLP(num_classes=10)\n",
        "\n",
        "model.compile(optimizer='rmsprop',\n",
        "                loss='mse',\n",
        "                metrics=['accuracy'])    "
      ],
      "metadata": {
        "id": "zMPPlG9KCsWb"
      },
      "execution_count": 11,
      "outputs": []
    },
    {
      "cell_type": "code",
      "source": [
        "# Training with history\n",
        "history = model.fit(train_images, train_labels, epochs=5, batch_size=128,verbose=2)\n",
        "\n",
        "loss = history.history['loss']\n",
        "acc = history.history['accuracy']\n",
        "epochs = range(1, len(loss)+1)\n",
        "\n",
        "plt.plot(epochs, loss, 'b', label='Training Loss')\n",
        "plt.plot(epochs, acc, 'r', label='Accuracy')\n",
        "plt.xlabel('epochs')\n",
        "plt.ylabel('loss/acc')\n",
        "plt.show()\n",
        "\n",
        "# test\n",
        "test_loss, test_acc = model.evaluate(test_images, test_labels)\n",
        "print('테스트 정확도:', test_acc)"
      ],
      "metadata": {
        "colab": {
          "base_uri": "https://localhost:8080/",
          "height": 499
        },
        "id": "3cA4ri88C5DU",
        "outputId": "1e299551-d635-4b7d-acb4-d277c29591da"
      },
      "execution_count": 12,
      "outputs": [
        {
          "output_type": "stream",
          "name": "stdout",
          "text": [
            "Epoch 1/5\n",
            "469/469 - 2s - loss: 0.0122 - accuracy: 0.9216 - 2s/epoch - 3ms/step\n",
            "Epoch 2/5\n",
            "469/469 - 1s - loss: 0.0054 - accuracy: 0.9661 - 1s/epoch - 2ms/step\n",
            "Epoch 3/5\n",
            "469/469 - 1s - loss: 0.0037 - accuracy: 0.9773 - 1s/epoch - 3ms/step\n",
            "Epoch 4/5\n",
            "469/469 - 1s - loss: 0.0028 - accuracy: 0.9829 - 1s/epoch - 3ms/step\n",
            "Epoch 5/5\n",
            "469/469 - 1s - loss: 0.0022 - accuracy: 0.9866 - 1s/epoch - 2ms/step\n"
          ]
        },
        {
          "output_type": "display_data",
          "data": {
            "text/plain": [
              "<Figure size 432x288 with 1 Axes>"
            ],
            "image/png": "[encoded data removed]"
          },
          "metadata": {
            "needs_background": "light"
          }
        },
        {
          "output_type": "stream",
          "name": "stdout",
          "text": [
            "313/313 [==============================] - 1s 2ms/step - loss: 0.0032 - accuracy: 0.9792\n",
            "테스트 정확도: 0.979200005531311\n"
          ]
        }
      ]
    },
    {
      "cell_type": "markdown",
      "source": [
        "---\n",
        "# Hyperparameter search\n",
        "- Grid search\n",
        "---"
      ],
      "metadata": {
        "id": "fzfOVGejDSOb"
      }
    },
    {
      "cell_type": "code",
      "source": [
        "!pip install scikeras"
      ],
      "metadata": {
        "colab": {
          "base_uri": "https://localhost:8080/"
        },
        "id": "P2mpi8NXDo5K",
        "outputId": "1f48746c-bde6-4fc2-9011-a904b821c8d9"
      },
      "execution_count": 14,
      "outputs": [
        {
          "output_type": "stream",
          "name": "stdout",
          "text": [
            "Looking in indexes: https://pypi.org/simple, https://us-python.pkg.dev/colab-wheels/public/simple/\n",
            "Collecting scikeras\n",
            "  Downloading scikeras-0.9.0-py3-none-any.whl (27 kB)\n",
            "Requirement already satisfied: importlib-metadata>=3 in /usr/local/lib/python3.7/dist-packages (from scikeras) (5.0.0)\n",
            "Requirement already satisfied: packaging>=0.21 in /usr/local/lib/python3.7/dist-packages (from scikeras) (21.3)\n",
            "Requirement already satisfied: scikit-learn>=1.0.0 in /usr/local/lib/python3.7/dist-packages (from scikeras) (1.0.2)\n",
            "Requirement already satisfied: typing-extensions>=3.6.4 in /usr/local/lib/python3.7/dist-packages (from importlib-metadata>=3->scikeras) (4.1.1)\n",
            "Requirement already satisfied: zipp>=0.5 in /usr/local/lib/python3.7/dist-packages (from importlib-metadata>=3->scikeras) (3.8.1)\n",
            "Requirement already satisfied: pyparsing!=3.0.5,>=2.0.2 in /usr/local/lib/python3.7/dist-packages (from packaging>=0.21->scikeras) (3.0.9)\n",
            "Requirement already satisfied: joblib>=0.11 in /usr/local/lib/python3.7/dist-packages (from scikit-learn>=1.0.0->scikeras) (1.2.0)\n",
            "Requirement already satisfied: scipy>=1.1.0 in /usr/local/lib/python3.7/dist-packages (from scikit-learn>=1.0.0->scikeras) (1.7.3)\n",
            "Requirement already satisfied: threadpoolctl>=2.0.0 in /usr/local/lib/python3.7/dist-packages (from scikit-learn>=1.0.0->scikeras) (3.1.0)\n",
            "Requirement already satisfied: numpy>=1.14.6 in /usr/local/lib/python3.7/dist-packages (from scikit-learn>=1.0.0->scikeras) (1.21.6)\n",
            "Installing collected packages: scikeras\n",
            "Successfully installed scikeras-0.9.0\n"
          ]
        }
      ]
    },
    {
      "cell_type": "code",
      "source": [
        "# import numpy as np \n",
        "# import matplotlib.pyplot as plt \n",
        "import tensorflow as tf\n",
        "from sklearn.model_selection import GridSearchCV\n",
        "# from tensorflow.keras.wrappers.scikit_learn import KerasClassifier\n",
        "from scikeras.wrappers import KerasClassifier\n",
        "# OS warning cure\n",
        "import os\n",
        "os.environ['TF_CPP_MIN_LOG_LEVEL'] = '3'\n",
        "\n",
        "# 데이터 세트 준비\n",
        "(train_images, train_labels), (test_images, test_labels) = tf.keras.datasets.mnist.load_data()\n",
        "\n",
        "train_images = train_images.reshape((60000, 28 * 28))\n",
        "train_images = train_images.astype('float32') / 255\n",
        "\n",
        "test_images = test_images.reshape((10000, 28 * 28))\n",
        "test_images = test_images.astype('float32') / 255\n",
        "\n",
        "train_labels = tf.keras.utils.to_categorical(train_labels)\n",
        "test_labels = tf.keras.utils.to_categorical(test_labels)\n",
        "                             \n",
        "# 신경망 모델 구축\n",
        "def build_model():\n",
        "    network = tf.keras.models.Sequential()\n",
        "    network.add(tf.keras.layers.Dense(512, activation='relu', input_shape=(28 * 28,)))\n",
        "    network.add(tf.keras.layers.Dense(10, activation='sigmoid'))\n",
        "\n",
        "    network.compile(optimizer='rmsprop',\n",
        "                loss='categorical_crossentropy',\n",
        "                metrics=['accuracy'])\n",
        "    return network\n",
        "\n",
        "# 하이퍼 매개변수 딕셔너리\n",
        "param_grid = {\n",
        "              'epochs':[1, 2, 3],\t# 에포크 수: 1, 2, 3\n",
        "              'batch_size':[32, 64, 100]\t# 배치 크기: 32, 64, 100\n",
        "             }\n",
        "\n",
        "# 케라스 모델을 scikeras에서 사용하도록 포장한다. \n",
        "model = KerasClassifier(model = build_model, verbose=1)\n",
        "\n",
        "## Elapsed time start\n",
        "import time\n",
        "start = time.time()\n",
        "\n",
        "# 그리드 검색\n",
        "gs = GridSearchCV(\n",
        "    estimator=model,\n",
        "    param_grid=param_grid, \n",
        "    cv=3, \n",
        "    # n_jobs=-1 # comment this line to avoid out-of-memory\n",
        ")\n",
        "\n",
        "# 그리드 검색 결과 출력\n",
        "grid_result = gs.fit(train_images, train_labels)\n",
        "\n",
        "## Elapsed time end\n",
        "end = time.time()\n",
        "print('Elapsed time:', end - start) # Elapsed time: 122.5, 189.5\n",
        "\n",
        "print(grid_result.best_score_) # 0.9725, 0.9711\n",
        "print(grid_result.best_params_) # {'batch_size': 64, 'epochs': 3}\n"
      ],
      "metadata": {
        "colab": {
          "base_uri": "https://localhost:8080/"
        },
        "id": "18jNDLeADbRC",
        "outputId": "6c666801-0c07-4cec-efc8-0bae615d09fe"
      },
      "execution_count": 15,
      "outputs": [
        {
          "output_type": "stream",
          "name": "stdout",
          "text": [
            "1250/1250 [==============================] - 6s 4ms/step - loss: 0.2379 - accuracy: 0.9293\n",
            "625/625 [==============================] - 1s 1ms/step\n",
            "1250/1250 [==============================] - 3s 2ms/step - loss: 0.2331 - accuracy: 0.9313\n",
            "625/625 [==============================] - 1s 1ms/step\n",
            "1250/1250 [==============================] - 3s 2ms/step - loss: 0.2384 - accuracy: 0.9293\n",
            "625/625 [==============================] - 1s 1ms/step\n",
            "Epoch 1/2\n",
            "1250/1250 [==============================] - 3s 2ms/step - loss: 0.2408 - accuracy: 0.9285\n",
            "Epoch 2/2\n",
            "1250/1250 [==============================] - 3s 2ms/step - loss: 0.1032 - accuracy: 0.9698\n",
            "625/625 [==============================] - 1s 1ms/step\n",
            "Epoch 1/2\n",
            "1250/1250 [==============================] - 3s 2ms/step - loss: 0.2344 - accuracy: 0.9296\n",
            "Epoch 2/2\n",
            "1250/1250 [==============================] - 3s 2ms/step - loss: 0.1011 - accuracy: 0.9696\n",
            "625/625 [==============================] - 1s 1ms/step\n",
            "Epoch 1/2\n",
            "1250/1250 [==============================] - 3s 2ms/step - loss: 0.2359 - accuracy: 0.9296\n",
            "Epoch 2/2\n",
            "1250/1250 [==============================] - 3s 2ms/step - loss: 0.0997 - accuracy: 0.9704\n",
            "625/625 [==============================] - 1s 1ms/step\n",
            "Epoch 1/3\n",
            "1250/1250 [==============================] - 3s 2ms/step - loss: 0.2441 - accuracy: 0.9281\n",
            "Epoch 2/3\n",
            "1250/1250 [==============================] - 3s 2ms/step - loss: 0.1056 - accuracy: 0.9680\n",
            "Epoch 3/3\n",
            "1250/1250 [==============================] - 3s 2ms/step - loss: 0.0728 - accuracy: 0.9783\n",
            "625/625 [==============================] - 1s 1ms/step\n",
            "Epoch 1/3\n",
            "1250/1250 [==============================] - 4s 3ms/step - loss: 0.2349 - accuracy: 0.9315\n",
            "Epoch 2/3\n",
            "1250/1250 [==============================] - 3s 2ms/step - loss: 0.1015 - accuracy: 0.9702\n",
            "Epoch 3/3\n",
            "1250/1250 [==============================] - 3s 2ms/step - loss: 0.0692 - accuracy: 0.9802\n",
            "625/625 [==============================] - 1s 2ms/step\n",
            "Epoch 1/3\n",
            "1250/1250 [==============================] - 3s 2ms/step - loss: 0.2380 - accuracy: 0.9283\n",
            "Epoch 2/3\n",
            "1250/1250 [==============================] - 3s 2ms/step - loss: 0.1007 - accuracy: 0.9709\n",
            "Epoch 3/3\n",
            "1250/1250 [==============================] - 3s 2ms/step - loss: 0.0696 - accuracy: 0.9801\n",
            "625/625 [==============================] - 1s 1ms/step\n",
            "625/625 [==============================] - 2s 2ms/step - loss: 0.2657 - accuracy: 0.9230\n",
            "313/313 [==============================] - 0s 1ms/step\n",
            "625/625 [==============================] - 2s 2ms/step - loss: 0.2616 - accuracy: 0.9259\n",
            "313/313 [==============================] - 0s 1ms/step\n",
            "625/625 [==============================] - 2s 3ms/step - loss: 0.2647 - accuracy: 0.9226\n",
            "313/313 [==============================] - 0s 1ms/step\n",
            "Epoch 1/2\n",
            "625/625 [==============================] - 2s 2ms/step - loss: 0.2652 - accuracy: 0.9225\n",
            "Epoch 2/2\n",
            "625/625 [==============================] - 2s 3ms/step - loss: 0.1122 - accuracy: 0.9661\n",
            "313/313 [==============================] - 0s 1ms/step\n",
            "Epoch 1/2\n",
            "625/625 [==============================] - 2s 2ms/step - loss: 0.2611 - accuracy: 0.9238\n",
            "Epoch 2/2\n",
            "625/625 [==============================] - 2s 2ms/step - loss: 0.1090 - accuracy: 0.9674\n",
            "313/313 [==============================] - 0s 1ms/step\n",
            "Epoch 1/2\n",
            "625/625 [==============================] - 2s 3ms/step - loss: 0.2622 - accuracy: 0.9234\n",
            "Epoch 2/2\n",
            "625/625 [==============================] - 2s 3ms/step - loss: 0.1092 - accuracy: 0.9677\n",
            "313/313 [==============================] - 1s 2ms/step\n",
            "Epoch 1/3\n",
            "625/625 [==============================] - 2s 2ms/step - loss: 0.2649 - accuracy: 0.9216\n",
            "Epoch 2/3\n",
            "625/625 [==============================] - 2s 2ms/step - loss: 0.1110 - accuracy: 0.9670\n",
            "Epoch 3/3\n",
            "625/625 [==============================] - 2s 2ms/step - loss: 0.0732 - accuracy: 0.9775\n",
            "313/313 [==============================] - 0s 1ms/step\n",
            "Epoch 1/3\n",
            "625/625 [==============================] - 2s 3ms/step - loss: 0.2606 - accuracy: 0.9229\n",
            "Epoch 2/3\n",
            "625/625 [==============================] - 2s 2ms/step - loss: 0.1112 - accuracy: 0.9671\n",
            "Epoch 3/3\n",
            "625/625 [==============================] - 2s 2ms/step - loss: 0.0742 - accuracy: 0.9780\n",
            "313/313 [==============================] - 0s 1ms/step\n",
            "Epoch 1/3\n",
            "625/625 [==============================] - 2s 2ms/step - loss: 0.2620 - accuracy: 0.9231\n",
            "Epoch 2/3\n",
            "625/625 [==============================] - 2s 2ms/step - loss: 0.1080 - accuracy: 0.9682\n",
            "Epoch 3/3\n",
            "625/625 [==============================] - 2s 2ms/step - loss: 0.0702 - accuracy: 0.9786\n",
            "313/313 [==============================] - 0s 1ms/step\n",
            "400/400 [==============================] - 1s 3ms/step - loss: 0.2909 - accuracy: 0.9165\n",
            "200/200 [==============================] - 0s 1ms/step\n",
            "400/400 [==============================] - 1s 3ms/step - loss: 0.2894 - accuracy: 0.9154\n",
            "200/200 [==============================] - 0s 1ms/step\n",
            "400/400 [==============================] - 1s 3ms/step - loss: 0.2894 - accuracy: 0.9175\n",
            "200/200 [==============================] - 0s 1ms/step\n",
            "Epoch 1/2\n",
            "400/400 [==============================] - 1s 3ms/step - loss: 0.2925 - accuracy: 0.9163\n",
            "Epoch 2/2\n",
            "400/400 [==============================] - 1s 3ms/step - loss: 0.1231 - accuracy: 0.9643\n",
            "200/200 [==============================] - 0s 1ms/step\n",
            "Epoch 1/2\n",
            "400/400 [==============================] - 1s 3ms/step - loss: 0.2860 - accuracy: 0.9173\n",
            "Epoch 2/2\n",
            "400/400 [==============================] - 1s 3ms/step - loss: 0.1205 - accuracy: 0.9642\n",
            "200/200 [==============================] - 0s 1ms/step\n",
            "Epoch 1/2\n",
            "400/400 [==============================] - 2s 3ms/step - loss: 0.2889 - accuracy: 0.9175\n",
            "Epoch 2/2\n",
            "400/400 [==============================] - 1s 3ms/step - loss: 0.1200 - accuracy: 0.9646\n",
            "200/200 [==============================] - 0s 1ms/step\n",
            "Epoch 1/3\n",
            "400/400 [==============================] - 1s 3ms/step - loss: 0.2898 - accuracy: 0.9168\n",
            "Epoch 2/3\n",
            "400/400 [==============================] - 1s 3ms/step - loss: 0.1235 - accuracy: 0.9632\n",
            "Epoch 3/3\n",
            "400/400 [==============================] - 1s 3ms/step - loss: 0.0807 - accuracy: 0.9758\n",
            "200/200 [==============================] - 0s 1ms/step\n",
            "Epoch 1/3\n",
            "400/400 [==============================] - 1s 3ms/step - loss: 0.2895 - accuracy: 0.9177\n",
            "Epoch 2/3\n",
            "400/400 [==============================] - 1s 3ms/step - loss: 0.1219 - accuracy: 0.9646\n",
            "Epoch 3/3\n",
            "400/400 [==============================] - 1s 3ms/step - loss: 0.0794 - accuracy: 0.9761\n",
            "200/200 [==============================] - 0s 1ms/step\n",
            "Epoch 1/3\n",
            "400/400 [==============================] - 1s 3ms/step - loss: 0.2955 - accuracy: 0.9147\n",
            "Epoch 2/3\n",
            "400/400 [==============================] - 1s 3ms/step - loss: 0.1227 - accuracy: 0.9639\n",
            "Epoch 3/3\n",
            "400/400 [==============================] - 1s 3ms/step - loss: 0.0804 - accuracy: 0.9763\n",
            "200/200 [==============================] - 0s 1ms/step\n",
            "Epoch 1/3\n",
            "938/938 [==============================] - 3s 3ms/step - loss: 0.2222 - accuracy: 0.9346\n",
            "Epoch 2/3\n",
            "938/938 [==============================] - 3s 3ms/step - loss: 0.0926 - accuracy: 0.9722\n",
            "Epoch 3/3\n",
            "938/938 [==============================] - 3s 3ms/step - loss: 0.0622 - accuracy: 0.9816\n",
            "Elapsed time: 172.40851497650146\n",
            "0.9699333333333332\n",
            "{'batch_size': 64, 'epochs': 3}\n"
          ]
        }
      ]
    }
  ]
}